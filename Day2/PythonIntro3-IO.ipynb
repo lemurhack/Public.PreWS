{
 "metadata": {
  "name": ""
 },
 "nbformat": 3,
 "nbformat_minor": 0,
 "worksheets": [
  {
   "cells": [
    {
     "cell_type": "heading",
     "level": 1,
     "metadata": {},
     "source": [
      "File I/O"
     ]
    },
    {
     "cell_type": "markdown",
     "metadata": {},
     "source": [
      "The last task today is learning how to read data to and from files. This is done in many ways depending on the file format, so we'll go through a few examples."
     ]
    },
    {
     "cell_type": "heading",
     "level": 2,
     "metadata": {},
     "source": [
      "open() and close()"
     ]
    },
    {
     "cell_type": "markdown",
     "metadata": {},
     "source": [
      "open(name, mode) is a built-in function for reading and writing strings. \n",
      "\n",
      "- 'name' is the name of the file on your hard drive. \n",
      "- 'mode' specifies what you intend to do with the file. \n",
      "    - 'r' opens the file for reading only. This is the default option. \n",
      "    - 'w' opens the file for writing only, and overwrites the file if it already exists.\n",
      "    - 'a' opens the file for write-appending. The file is created if it does not already exist.\n",
      "\n",
      "In the following example, we open a file 'TestReadFile.txt', which contains some made-up blood pressure and heart rate numbers for five patients, and read the data line-by-line into a dictionary. "
     ]
    },
    {
     "cell_type": "raw",
     "metadata": {},
     "source": [
      "patient_data = {}\n",
      "input_file = open('data/TestReadFile.csv', 'r')\n",
      "for line in input_file:\n",
      "    line = line.strip() # Remove newlines\n",
      "    print line\n",
      "    if \"#\" in line:\n",
      "        header = line # This line is a header. Save the header, and skip the rest\n",
      "        continue\n",
      "    line_contents = line.split(',') # Break the line into entries separated by commas\n",
      "    if not len(line_contents) == 4:\n",
      "        continue # Safety check: make sure the line has the correct number of commas\n",
      "    patient_data[line_contents[0]] = {} # For each patient, create a dictionary to store the patient data, with key = patient name\n",
      "    patient_data[line_contents[0]][\"Systolic\"] = float(line_contents[1]) # The line contents are read as a string, so we have to convert it to the appropriate data type\n",
      "    patient_data[line_contents[0]][\"Diastolic\"] = float(line_contents[2])\n",
      "    patient_data[line_contents[0]][\"HeartRate\"] = int(line_contents[3])\n",
      "print patient_data\n",
      "data_file.close()\n",
      "    "
     ]
    },
    {
     "cell_type": "code",
     "collapsed": false,
     "input": [
      "# Copy the code into this box, then hit 'shift+enter' to execute.\n"
     ],
     "language": "python",
     "metadata": {},
     "outputs": []
    },
    {
     "cell_type": "markdown",
     "metadata": {},
     "source": [
      "To write to a file, use the write() function."
     ]
    },
    {
     "cell_type": "raw",
     "metadata": {},
     "source": [
      "output_file = open(\"data/TestWriteFile.csv\", 'w')\n",
      "output_file.write(header + \"\\n\")\n",
      "for patient_name in sorted(patient_data.keys()):\n",
      "    output_file.write(\",\".join([patient_name, str(patient_data[patient_name][\"Systolic\"]), str(patient_data[patient_name][\"Diastolic\"]), str(patient_data[patient_name][\"HeartRate\"])]) + \"\\n\")\n",
      "output_file.close()"
     ]
    },
    {
     "cell_type": "code",
     "collapsed": false,
     "input": [
      "# Copy the code into this box, then hit 'shift+enter' to execute.\n"
     ],
     "language": "python",
     "metadata": {},
     "outputs": [],
     "prompt_number": 1
    },
    {
     "cell_type": "heading",
     "level": 2,
     "metadata": {},
     "source": [
      "The CSV Module"
     ]
    },
    {
     "cell_type": "markdown",
     "metadata": {},
     "source": [
      "You might have guessed that somebody has already written a nice module to expedite the reading of CSV files, avoiding the cumbersome string manipulation. The following code snippet demonstrates how to import the csv module and use it to read and write files."
     ]
    },
    {
     "cell_type": "raw",
     "metadata": {},
     "source": [
      "import csv\n",
      "\n",
      "# Instead of giving us a comma-separated string, the CSV reader takes care of the comma separation and provides a list\n",
      "input_file  = open('data/TestReadFile.csv', \"r\")\n",
      "csv_reader = csv.reader(input_file)\n",
      "patient_data = {}\n",
      "for row in csv_reader:\n",
      "    if \"#\" in row[0]:\n",
      "        header = row\n",
      "        continue\n",
      "    else:\n",
      "        patient_data[row[0]] = {}\n",
      "        for col_index in xrange(1, len(row)):\n",
      "            patient_data[row[0]][header[col_index]] = float(row[col_index])\n",
      "print patient_data\n",
      "input_file.close()\n",
      "\n",
      "# Similarly, the CSV writer is given a list, and takes care of turning the list into a comma-separated string for writing.\n",
      "output_file = open(\"TestWriteFile.csv\", 'w')\n",
      "csv_writer = csv.writer(output_file, delimiter=',')\n",
      "csv_writer.writerow(header)\n",
      "for patient_name in sorted(patient_data.keys()):\n",
      "    csv_writer.writerow([patient_name, str(patient_data[patient_name][\"Systolic\"]), str(patient_data[patient_name][\"Diastolic\"]), str(int(patient_data[patient_name][\"HeartRate\"]))])\n",
      "output_file.close()\n",
      "\n"
     ]
    },
    {
     "cell_type": "code",
     "collapsed": false,
     "input": [
      "# Copy the code into this box, then hit 'shift+enter' to execute.\n"
     ],
     "language": "python",
     "metadata": {},
     "outputs": []
    },
    {
     "cell_type": "heading",
     "level": 2,
     "metadata": {},
     "source": [
      "The numpy Module"
     ]
    },
    {
     "cell_type": "markdown",
     "metadata": {},
     "source": [
      "Tomorrow, we will cover the numpy and scipy modules, two essential packages for scientific python. These modules have their own structures and functions for storing and manipulating data, which extend and improve upon the built-in options. See http://docs.scipy.org/doc/numpy/reference/routines.io.html and http://docs.scipy.org/doc/scipy/reference/tutorial/io.html for examples of how to load various file types."
     ]
    },
    {
     "cell_type": "heading",
     "level": 2,
     "metadata": {},
     "source": [
      "Exercise"
     ]
    },
    {
     "cell_type": "markdown",
     "metadata": {},
     "source": [
      "Building on the exercise from part 2, write a function that loads a table from file, transposes the table, and write the table to a new file."
     ]
    },
    {
     "cell_type": "code",
     "collapsed": false,
     "input": [
      "def LoadTransposeWrite(input_file_path, output_file_path):\n",
      "    # Write code here. You probably want to make use of the function you wrote in part 2.\n",
      "    \n",
      "    return # Placeholder function. Delete when you write your own code.\n",
      "\n",
      "# Uncomment to test the function. \n",
      "LoadTransposeWrite(\"data/PythonIntro3-IO-ExerciseInput.csv\", \"data/PythonIntro3-IO-ExerciseOutput.csv\")"
     ],
     "language": "python",
     "metadata": {},
     "outputs": [],
     "prompt_number": 3
    },
    {
     "cell_type": "heading",
     "level": 2,
     "metadata": {},
     "source": [
      "Extra Credit"
     ]
    },
    {
     "cell_type": "markdown",
     "metadata": {},
     "source": [
      "We've only scratched the surface of the modules available in python. For the rest of this week, we'll be going over some of the common tools for scientific python, but here are some other packages you might want to try out:\n",
      "\n",
      "- glob : Find files matching a certain pattern, e.g. all files in a folder ending in \".txt\". Useful for indexing all your input data.\n",
      "- re : Regular expressions. Perform searches for patterns in strings, and extract pieces of strings.\n",
      "- argparse : When running scripts from the command line, argparse facilitates passing command line arguments to the script. \n",
      "- datetime and dateutil : Handle times and dates in various formats.\n",
      "- BeautifulSoup : For parsing and extracting data from .html and .xml files.\n",
      "- fuzzywuzzy : \"Fuzzy string matching like a boss.\" Think autocorrection. \n"
     ]
    },
    {
     "cell_type": "code",
     "collapsed": false,
     "input": [],
     "language": "python",
     "metadata": {},
     "outputs": []
    }
   ],
   "metadata": {}
  }
 ]
}