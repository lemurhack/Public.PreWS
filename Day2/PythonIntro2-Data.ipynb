{
 "metadata": {
  "name": ""
 },
 "nbformat": 3,
 "nbformat_minor": 0,
 "worksheets": [
  {
   "cells": [
    {
     "cell_type": "heading",
     "level": 1,
     "metadata": {},
     "source": [
      "Data Structures"
     ]
    },
    {
     "cell_type": "markdown",
     "metadata": {},
     "source": [
      "Python has four main data structures: lists, dictionaries, sets, and tuples. Each is described in detail in the documentation at https://docs.python.org/2/tutorial/datastructures.html; we'll go through some important aspects here.\n",
      "\n",
      "Note that we will use custom data structures tomorrow, from the numpy module. "
     ]
    },
    {
     "cell_type": "heading",
     "level": 2,
     "metadata": {},
     "source": [
      "Lists"
     ]
    },
    {
     "cell_type": "markdown",
     "metadata": {},
     "source": [
      "A list is an ordered collection of objects. To create a list, use square brackets, '[]'. The objects can all be the same type, like a list of integers:\n"
     ]
    },
    {
     "cell_type": "raw",
     "metadata": {},
     "source": [
      "homogenous_list = [1, 2, 3, 4]"
     ]
    },
    {
     "cell_type": "markdown",
     "metadata": {},
     "source": [
      "or they can be wildly different types:"
     ]
    },
    {
     "cell_type": "raw",
     "metadata": {},
     "source": [
      "heterogeneous_list = [0, 'a', 23j, [\"Another list!\"], 6]"
     ]
    },
    {
     "cell_type": "markdown",
     "metadata": {},
     "source": [
      "Try out some list creation and manipulation techniques below:"
     ]
    },
    {
     "cell_type": "raw",
     "metadata": {},
     "source": [
      "# Create a list of numbers\n",
      "a_list = [1, 2, 3]\n",
      "print \"A simple list:\"\n",
      "print a_list\n",
      "\n",
      "# Create a list of lists (a.k.a. a matrix, although there are better ways to do this)\n",
      "a_matrix = [[1, 2, 3], [4, 5, 6], [7, 8, 9]]\n",
      "print \"\\nA matrix:\"\n",
      "print a_matrix\n",
      "\n",
      "# append : Add an element to the end of a list\n",
      "print \"\\nTesting append\"\n",
      "some_words = [\"I\", \"believe\", \"that\", \"we\", \"will\"]\n",
      "print some_words\n",
      "some_words.append(\"win\")\n",
      "print some_words\n",
      "\n",
      "# extend : Add multiple elements from another list to the end of a list\n",
      "print \"\\nTesting extend\"\n",
      "some_numbers = [1, 2, 3]\n",
      "print some_numbers\n",
      "some_numbers.extend([13, 15, 17])\n",
      "print some_numbers\n",
      "\n",
      "# Note that append will do the wrong thing here! The whole list gets added as a single element.\n",
      "print \"\\nMistaking append for extend\"\n",
      "some_numbers2 = [1, 2, 3]\n",
      "some_numbers2.append([13, 15, 17])\n",
      "print some_numbers2\n"
     ]
    },
    {
     "cell_type": "code",
     "collapsed": false,
     "input": [
      "# Copy the code into this box, then hit 'shift+enter' to execute.\n"
     ],
     "language": "python",
     "metadata": {},
     "outputs": [],
     "prompt_number": 49
    },
    {
     "cell_type": "markdown",
     "metadata": {},
     "source": [
      "Lists can also be created using \"list comprehensions,\" a shorthand notation using a 'for' loop. This can save some typing and improve (or hinder) readability."
     ]
    },
    {
     "cell_type": "raw",
     "metadata": {},
     "source": [
      "print \"Making a list of squares\"\n",
      "a_list_of_squares = [x**2 for x in range(10)]\n",
      "print a_list_of_squares\n",
      "\n",
      "print \"Making a list of even squares\"\n",
      "a_list_of_even_squares = [x**2 for x in range(10) if x % 2 == 0]\n",
      "print a_list_of_even_squares\n",
      "\n"
     ]
    },
    {
     "cell_type": "code",
     "collapsed": false,
     "input": [
      "# Copy the code into this box, then hit 'shift+enter' to execute.\n"
     ],
     "language": "python",
     "metadata": {},
     "outputs": [],
     "prompt_number": 22
    },
    {
     "cell_type": "heading",
     "level": 3,
     "metadata": {},
     "source": [
      "List Indices"
     ]
    },
    {
     "cell_type": "markdown",
     "metadata": {},
     "source": [
      "The data inside a list is accessed using the syntax list_name[list_index]. There are a few variations on this, demonstrated below. For example, you can use negative indices like [-2] to count backwards from the end of the list, or use the colon notation [a:b] to return a sub-list of elements from a to b."
     ]
    },
    {
     "cell_type": "raw",
     "metadata": {},
     "source": [
      "# Monthly average high temperature\n",
      "monthly_average_highs = [58.4, 61.6, 64.2, 66.8, 69.7, 73.2, 73.9, 74.3, 74.8, 72.5, 64.8, 58.6]\n",
      "print \"Average high for March = \",\n",
      "print monthly_average_highs[2]\n",
      "print \"Average high for December = \",\n",
      "print monthly_average_highs[-1]\n",
      "print \"Average high for June-August = \",\n",
      "print monthly_average_highs[5:8]\n",
      "print \"Average high for September through the end of the year = \",\n",
      "print monthly_average_highs[8:]"
     ]
    },
    {
     "cell_type": "code",
     "collapsed": false,
     "input": [
      "# Copy the code into this box, then hit 'shift+enter' to execute.\n"
     ],
     "language": "python",
     "metadata": {},
     "outputs": []
    },
    {
     "cell_type": "heading",
     "level": 3,
     "metadata": {},
     "source": [
      "Sorting Lists"
     ]
    },
    {
     "cell_type": "markdown",
     "metadata": {},
     "source": [
      "The functions sorted() (takes the list as an argument and returns a sorted list) and sort() (sorts a list in place) will sort a list according to default rules. "
     ]
    },
    {
     "cell_type": "raw",
     "metadata": {},
     "source": [
      "# sort : Sorts a list.\n",
      "print \"\\nSorting a list using sorted()\"\n",
      "jumbled_numbers = [10, 3, 6, 2, 5, 108, 4]\n",
      "print jumbled_numbers\n",
      "sorted_numbers = sorted(jumbled_numbers)\n",
      "print sorted_numbers\n",
      "\n",
      "print \"\\nSorting a list using sort()\"\n",
      "names = [\"Sofiatti\", \"Cole\", \"Brosamer\", \"Thurakal\", \"Yu\"]\n",
      "print names\n",
      "names.sort()\n",
      "print names\n",
      "\n",
      "print \"\\nSorting a mixed list sort of works.\"\n",
      "mixed_list = [3, 1, 'c', 'a', [5, 6, 7], ['d', 'e', 'f']]\n",
      "print mixed_list\n",
      "mixed_list.sort()\n",
      "print mixed_list"
     ]
    },
    {
     "cell_type": "code",
     "collapsed": false,
     "input": [
      "# Copy the code into this box, then hit 'shift+enter' to execute.\n"
     ],
     "language": "python",
     "metadata": {},
     "outputs": [],
     "prompt_number": 47
    },
    {
     "cell_type": "markdown",
     "metadata": {},
     "source": [
      "More complicated sorting can be realized through \"lambda\" functions, which are short, unnamed, one-off functions that you can write down on the fly (see http://pythonconquerstheuniverse.wordpress.com/2011/08/29/lambda_tutorial/ for more details)."
     ]
    },
    {
     "cell_type": "raw",
     "metadata": {},
     "source": [
      "print \"Sorting a list using a more complicated sorting algorithm, in this case the second element of each pair.\"\n",
      "scoville_heat_units = [[\"serrano\", 15000], [\"chipotle\", 5000], [\"resiniferatoxin\", 16000000000], [\"ghost pepper\", 1000000], [\"habanero\", 200000], [\"Joe Thurakal\", 1000000000], [\"scorpion\", 2100000], [\"capsaicin\", 16000000]]\n",
      "print scoville_heat_units\n",
      "\n",
      "scoville_heat_units.sort(key=lambda x : x[1])\n",
      "for x in scoville_heat_units:\n",
      "    print x[0] + \" has Scoville rating \" + str(x[1])"
     ]
    },
    {
     "cell_type": "code",
     "collapsed": false,
     "input": [
      "# Copy the code into this box, then hit 'shift+enter' to execute.\n"
     ],
     "language": "python",
     "metadata": {},
     "outputs": [],
     "prompt_number": 61
    },
    {
     "cell_type": "heading",
     "level": 2,
     "metadata": {},
     "source": [
      "Dictionaries"
     ]
    },
    {
     "cell_type": "markdown",
     "metadata": {},
     "source": [
      "Dictionaries (somteimes called associative arrays in other languages; similar to C++ maps) are data store as an unordered set of key => value pairs. To create a dictionary, use curly brackets, '{}'. As an example, we could store the h-indices of Berkeley's recent nobel prize winners:"
     ]
    },
    {
     "cell_type": "raw",
     "metadata": {},
     "source": [
      "nobel_prize_winners = {\"Saul Perlmutter\":2011, \"Oliver E. Williamson\":2009, \"George F. Smoot\":2006, \"George A. Akerlof\":2001, \"Daniel L. McFadden\":2000, \"Yuan T. Lee\":1986, \"Charles H. Townes\":1964, \"John C. Harsanyi\":1994, \"Gerard Debreu\":1983, \"Czeslaw Milosz\":1980, \"Luis Alvarez\":1968, \"Melvin Calvin\":1961, \"Donald A. Glaser\":1960, \"Owen Chamberlain\":1959, \"Emilio G. Segre\":1959, \"Edwin M. McMillan\":1951, \"Glenn T. Seaborg\":1951, \"William F. Giauque\":1949, \"John H. Northrop\":1946, \"Wendell M. Stanley\":1946, \"Ernest O. Lawrence\":1939}\n",
      "\n",
      "# Add a key=>value pair using square bracket notation\n",
      "nobel_prize_winners[\"Randy Schekman\"] = 2013\n",
      "\n",
      "# Square brackets are also used for accessing an element in the dictionary\n",
      "print \"Saul Perlmutter won the Nobel Prize in \" + str(nobel_prize_winners[\"Saul Perlmutter\"])\n",
      "\n",
      "# Loop over a dictionary using the unpacking function iteritems(). Notice that order is not preserved!\n",
      "for name, year in nobel_prize_winners.iteritems():\n",
      "    print name + \" won the Nobel Prize in \" + str(year)"
     ]
    },
    {
     "cell_type": "code",
     "collapsed": false,
     "input": [
      "# Copy the code into this box, then hit 'shift+enter' to execute.\n"
     ],
     "language": "python",
     "metadata": {},
     "outputs": [],
     "prompt_number": 68
    },
    {
     "cell_type": "heading",
     "level": 2,
     "metadata": {},
     "source": [
      "Tuples and Sets"
     ]
    },
    {
     "cell_type": "markdown",
     "metadata": {},
     "source": [
      "The final two data structures, tuples and sets, are less commonly used. Tuples are similar to lists, except with parentheses () instead of square brackets []. The major difference is that they are immutable: the elements inside a tuple cannot be changed."
     ]
    },
    {
     "cell_type": "raw",
     "metadata": {},
     "source": [
      "a_tuple = (1, 2)\n",
      "print a_tuple\n",
      "\n",
      "# Shorthand notation for creating a one-element tuple\n",
      "another_tuple = 1,\n",
      "print another_tuple"
     ]
    },
    {
     "cell_type": "code",
     "collapsed": false,
     "input": [
      "# Copy the code into this box, then hit 'shift+enter' to execute.\n"
     ],
     "language": "python",
     "metadata": {},
     "outputs": [],
     "prompt_number": 67
    },
    {
     "cell_type": "raw",
     "metadata": {},
     "source": [
      "# Trying to change an element of a tuple gives an error\n",
      "a_tuple = (1,2)\n",
      "a_tuple[0] = 2"
     ]
    },
    {
     "cell_type": "code",
     "collapsed": false,
     "input": [
      "# Copy the code into this box, then hit 'shift+enter' to execute.\n"
     ],
     "language": "python",
     "metadata": {},
     "outputs": [],
     "prompt_number": 69
    },
    {
     "cell_type": "markdown",
     "metadata": {},
     "source": [
      "A set is an unordered collection with no duplicate elements. Creating a set from a list is a quick way to eliminate duplicate elements:"
     ]
    },
    {
     "cell_type": "raw",
     "metadata": {},
     "source": [
      "basket = ['apple', 'orange', 'apple', 'pear', 'orange', 'banana', 'banana', 'pear', 'pear', 'orange']\n",
      "fruit = set(basket)\n",
      "print fruit\n",
      "\n",
      "# Do we have a pear?\n",
      "print \"Do we have a pear? \",\n",
      "print 'pear' in fruit\n",
      "print \"Do we have a pineapple?\",\n",
      "print 'pineapple' in fruit\n"
     ]
    },
    {
     "cell_type": "heading",
     "level": 2,
     "metadata": {},
     "source": [
      "Exercise"
     ]
    },
    {
     "cell_type": "markdown",
     "metadata": {},
     "source": [
      "During this workshop, you will probably be doing a lot of manipulation of data in tables. One mundane task might be to transpose a table to get it in the right format for submitting to Kaggle. Write a function, TransposeTable() to do this. If you're bored, try to do it in one line!"
     ]
    },
    {
     "cell_type": "code",
     "collapsed": false,
     "input": [
      "def TransposeTable(input_table):\n",
      "    # Write the transposing code here\n",
      "    output_table = input_table\n",
      "    return output_table\n",
      "    \n",
      "    \n",
      "# Testing the function\n",
      "test_table = [[1, 2, 1], [3, 1, 0], [-1, 0, 1]]\n",
      "correct_transposed_table = [[1, 3, -1], [2, 1, 0], [1, 0, 1]]\n",
      "print \"Input table:\"\n",
      "print test_table\n",
      "print \"Transposed table:\"\n",
      "print TransposeTable(test_table) # This should be [[1, 3, -1], [2, 1, 0], [1, 0, 1]]\n",
      "if correct_transposed_table == TransposeTable(test_table):\n",
      "    print \"Success!\"\n",
      "else:\n",
      "    print \"Sorry, try again!\""
     ],
     "language": "python",
     "metadata": {},
     "outputs": [
      {
       "output_type": "stream",
       "stream": "stdout",
       "text": [
        "Input table:\n",
        "[[1, 2, 1], [3, 1, 0], [-1, 0, 1]]\n",
        "Transposed table:\n",
        "[[1, 2, 1], [3, 1, 0], [-1, 0, 1]]\n",
        "Sorry, try again!\n"
       ]
      }
     ],
     "prompt_number": 79
    },
    {
     "cell_type": "code",
     "collapsed": false,
     "input": [],
     "language": "python",
     "metadata": {},
     "outputs": []
    }
   ],
   "metadata": {}
  }
 ]
}