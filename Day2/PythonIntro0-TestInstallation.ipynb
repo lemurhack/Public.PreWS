{
 "metadata": {
  "name": ""
 },
 "nbformat": 3,
 "nbformat_minor": 0,
 "worksheets": [
  {
   "cells": [
    {
     "cell_type": "code",
     "collapsed": false,
     "input": [
      "# Click this cell and type \"shift-enter\" to run the code\n",
      "import sys\n",
      "import numpy\n",
      "import scipy\n",
      "import matplotlib\n",
      "import sklearn\n",
      "\n",
      "print \"Success! You are running:\"\n",
      "print \"python version \" + sys.version\n",
      "print \"numpy version \" + numpy.version.version\n",
      "print \"scipy version \" + scipy.version.version\n",
      "print \"matplotlib version \" + matplotlib.__version__\n",
      "print \"sklearn version \" + sklearn.__version__\n"
     ],
     "language": "python",
     "metadata": {},
     "outputs": []
    },
    {
     "cell_type": "code",
     "collapsed": false,
     "input": [],
     "language": "python",
     "metadata": {},
     "outputs": []
    }
   ],
   "metadata": {}
  }
 ]
}