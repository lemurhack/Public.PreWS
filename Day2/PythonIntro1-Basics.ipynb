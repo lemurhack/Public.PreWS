{
 "metadata": {
  "name": ""
 },
 "nbformat": 3,
 "nbformat_minor": 0,
 "worksheets": [
  {
   "cells": [
    {
     "cell_type": "heading",
     "level": 1,
     "metadata": {},
     "source": [
      "Python Intro I: Basics"
     ]
    },
    {
     "cell_type": "markdown",
     "metadata": {},
     "source": [
      "Welcome to part I of the introduction to python! The purpose of this notebook is to introduce familiarize you with the syntax of python (and ipython, this interactive command shell). To start, click in the cell below and type 'shift+enter' to execute the code. "
     ]
    },
    {
     "cell_type": "code",
     "collapsed": false,
     "input": [
      "# With the cursor in this cell, type 'shift+enter' to execute the code.\n",
      "print \"Welcome to python!\""
     ],
     "language": "python",
     "metadata": {},
     "outputs": []
    },
    {
     "cell_type": "markdown",
     "metadata": {},
     "source": [
      "The ipython interpreter lets you type in code piece-by-piece, executing it one chunk at a time (similar to Mathematica). This is very useful for prototyping and quick tasks; for longer, more permanent projects, we'll move to a real text editor. \n",
      "\n"
     ]
    },
    {
     "cell_type": "heading",
     "level": 2,
     "metadata": {},
     "source": [
      "Variables"
     ]
    },
    {
     "cell_type": "markdown",
     "metadata": {},
     "source": [
      "Let's start with some simple variable manipulation. Type or copy the following into the interactive cell:"
     ]
    },
    {
     "cell_type": "raw",
     "metadata": {},
     "source": [
      "a = 1\n",
      "b = 2\n",
      "c = a + b\n",
      "print c"
     ]
    },
    {
     "cell_type": "code",
     "collapsed": false,
     "input": [
      "# Copy the code into this box, then hit 'shift+enter' to execute.\n"
     ],
     "language": "python",
     "metadata": {},
     "outputs": []
    },
    {
     "cell_type": "markdown",
     "metadata": {},
     "source": [
      "Python is \"untyped\" in the sense that rather than python automatically assigns a type to variables, such as int, float, or str, rather than requiring the user to declare a type by hand. To see what type python has assigned to a variable, use the 'type()' function:\n",
      "\n"
     ]
    },
    {
     "cell_type": "raw",
     "metadata": {},
     "source": [
      "var_integer = 5\n",
      "print type(var_integer)\n",
      "\n",
      "var_float = 2.5\n",
      "print type(var_float)\n",
      "\n",
      "var_string = \"This is a string\"\n",
      "print type(var_string)\n",
      "\n",
      "print \"Variables can be manually converted to other types. For example, var_integer can be converted to a string with \" + str(var_integer) + \".\""
     ]
    },
    {
     "cell_type": "code",
     "collapsed": false,
     "input": [
      "# Copy the code into this box, then hit 'shift+enter' to execute.\n"
     ],
     "language": "python",
     "metadata": {},
     "outputs": []
    },
    {
     "cell_type": "heading",
     "level": 2,
     "metadata": {},
     "source": [
      "Functions"
     ]
    },
    {
     "cell_type": "markdown",
     "metadata": {},
     "source": [
      "For often-reused pieces of code, you can define a function using the following syntax:"
     ]
    },
    {
     "cell_type": "raw",
     "metadata": {},
     "source": [
      "def Addition(x, y):\n",
      "    return x + y\n",
      "\n",
      "def Subtraction(x, y):\n",
      "    return x - y\n",
      "\n",
      "def Multiplication(x, y):\n",
      "    return x * y\n",
      "\n",
      "def Division(x, y):\n",
      "    return x / y\n",
      "\n",
      "def Exponentiation(x, y):\n",
      "    return x ** y\n",
      "\n",
      "def Mersenne(x):\n",
      "    return Subtraction(Exponentiation(2, x), 1)\n",
      "\n",
      "print \"The second Mersenne prime is \" + str(Mersenne(3))"
     ]
    },
    {
     "cell_type": "code",
     "collapsed": false,
     "input": [
      "# Copy the code into this box, then hit 'shift+enter' to execute.\n"
     ],
     "language": "python",
     "metadata": {},
     "outputs": []
    },
    {
     "cell_type": "markdown",
     "metadata": {},
     "source": [
      "Remember the programming adage, \"never type the same code twice!\""
     ]
    },
    {
     "cell_type": "heading",
     "level": 2,
     "metadata": {},
     "source": [
      "Control Structures"
     ]
    },
    {
     "cell_type": "markdown",
     "metadata": {},
     "source": [
      "Like many programming languages, python makes use of 'for', 'if', and 'while' statements to control the flow of code. Try the following examples to get a feel for how they work."
     ]
    },
    {
     "cell_type": "raw",
     "metadata": {},
     "source": [
      "# For loops are declared with the syntax \"for <iterator_name> in <list>:\". The scope of the \"for\" loop is established using indentation; everything indented one level past the \"for\" statement is included in the loop.\n",
      "print \"This is a 'for' loop over a list\n",
      "for i in [1, 2, 4, 5]:\n",
      "    print i\n",
      "\n",
      "# To iterate over an arithmetic sequence, you can generate a list on the fly using \"range()\":\n",
      "print \"This is a 'for' loop over integers from 0 to 9\n",
      "for i in range(10):\n",
      "    print i\n",
      "\n",
      "print \"This is a 'for' loop over every other integer from 0 to 9\n",
      "for i in range(1, 10, 2):\n",
      "    print i"
     ]
    },
    {
     "cell_type": "code",
     "collapsed": false,
     "input": [
      "# Copy the code into this box, then hit 'shift+enter' to execute.\n"
     ],
     "language": "python",
     "metadata": {},
     "outputs": []
    },
    {
     "cell_type": "raw",
     "metadata": {},
     "source": [
      "# 'if' blocks are also defined using indentation. The keywords are \"if,\" \"elif,\" and \"else.\"\n",
      "for i in [1, 5, 10]:\n",
      "    if i > 5:\n",
      "        print str(i) + \" is greater than 5\"\n",
      "    elif i == 5:\n",
      "        print str(i) + \" is equal to 5\"\n",
      "    else:\n",
      "        print str(i) + \" is less than 5\""
     ]
    },
    {
     "cell_type": "code",
     "collapsed": false,
     "input": [
      "# Copy the code into this box, then hit 'shift+enter' to execute.\n"
     ],
     "language": "python",
     "metadata": {},
     "outputs": []
    },
    {
     "cell_type": "raw",
     "metadata": {},
     "source": [
      "# 'while' loops are less commonly used.\n",
      "paragraph = \"This is the first sentence of a paragraph. This is the second sentence. I am going to print out just the first sentence. Annoyingly, python prints a space between each letter...\"\n",
      "character = ''\n",
      "while character != '.':\n",
      "    character = paragraph[0]\n",
      "    print character,\n",
      "    paragraph = paragraph[1:]\n"
     ]
    },
    {
     "cell_type": "code",
     "collapsed": false,
     "input": [
      "# Copy the code into this box, then hit 'shift+enter' to execute.\n"
     ],
     "language": "python",
     "metadata": {},
     "outputs": []
    },
    {
     "cell_type": "heading",
     "level": 2,
     "metadata": {},
     "source": [
      "Importing Modules"
     ]
    },
    {
     "cell_type": "markdown",
     "metadata": {},
     "source": [
      "Aside from core functions, much of python's useful functions are stored as modules, external pieces of python code that can be imported on demand. The examples below demonstrate some of the common, built-in modules.\n",
      "\n",
      "\n",
      "- sys : Allows more sophisticated interaction with the python interpreter. For example, sys.exit(1) terminates execution, "
     ]
    },
    {
     "cell_type": "raw",
     "metadata": {},
     "source": [
      "# os : Provides an interface for the operating system, such as manipulating file paths or executing bash commands. For more information, see the documentation at https://docs.python.org/2/library/os.html\n",
      "import os\n",
      "print \"The current working directory is: \" + os.getcwd()\n",
      "\n",
      "# The os.path submodule provides some functions for manipulating file names\n",
      "this_file = os.getcwd() + \"/PythonIntro1-Basics.ipynb\"\n",
      "print \"This file's directory is \" + os.path.dirname(this_file)\n",
      "print \"This file's basename is \" + os.path.basename(this_file)"
     ]
    },
    {
     "cell_type": "code",
     "collapsed": false,
     "input": [
      "# Copy the code into this box, then hit 'shift+enter' to execute.\n"
     ],
     "language": "python",
     "metadata": {},
     "outputs": []
    },
    {
     "cell_type": "raw",
     "metadata": {},
     "source": [
      "# sys : Allows interaction with the interpreter itself. For more information, see the documentation at https://docs.python.org/2/library/sys.html\n",
      "import sys\n",
      "print \"You are running python version \" + sys.version\n",
      "\n",
      "everything_is_good = True\n",
      "if not everything_is_good:\n",
      "    print \"Things are bad!!\"\n",
      "    sys.exit(1)\n",
      "else:\n",
      "    print \"Everything is good!\""
     ]
    },
    {
     "cell_type": "code",
     "collapsed": false,
     "input": [
      "# Copy the code into this box, then hit 'shift+enter' to execute.\n"
     ],
     "language": "python",
     "metadata": {},
     "outputs": []
    },
    {
     "cell_type": "raw",
     "metadata": {},
     "source": [
      "# glob : List files that match a particular pattern\n",
      "import glob\n",
      "ipython_notebook_list = glob.glob(os.getcwd() + \"/*.ipynb\")\n",
      "print \"The current directory contains the following ipython notebooks:\"\n",
      "for filename in ipython_notebook_list:\n",
      "    print filename"
     ]
    },
    {
     "cell_type": "code",
     "collapsed": false,
     "input": [
      "# Copy the code into this box, then hit 'shift+enter' to execute.\n"
     ],
     "language": "python",
     "metadata": {},
     "outputs": []
    },
    {
     "cell_type": "raw",
     "metadata": {},
     "source": [
      "# math : Provides common math functions. See the documentation at https://docs.python.org/2/library/math.html for more information.\n",
      "# cmath : Provides the same functions, but for complex numbers.\n",
      "import math\n",
      "import cmath\n",
      "\n",
      "a_float = 2.5\n",
      "print \"ceil(\" + str(a_float) + \") = \" + str(math.ceil(a_float))\n",
      "\n",
      "a_negative_number = -5\n",
      "print \"cmath.sqrt() can handle a negative number:\"\n",
      "print cmath.sqrt(a_negative_number)\n",
      "\n",
      "print \"On the other hand, math.sqrt() will throw a runtime error. Notice that everything prior to here still gets executed.\"\n",
      "print math.sqrt(a_negative_number)\n",
      "\n",
      "print \"However, nothing after the runtime error gets executed.\""
     ]
    },
    {
     "cell_type": "code",
     "collapsed": false,
     "input": [
      "# Copy the code into this box, then hit 'shift+enter' to execute.\n"
     ],
     "language": "python",
     "metadata": {},
     "outputs": []
    },
    {
     "cell_type": "heading",
     "level": 2,
     "metadata": {},
     "source": [
      "Exercise"
     ]
    },
    {
     "cell_type": "markdown",
     "metadata": {},
     "source": [
      "The ipython notebook is great for prototyping and interactivity, but for longer, more permanent pieces of code, you'll want to save your code to a '.py' python file and execute it from either the command line or from within your IDE. To try this out,\n",
      "\n",
      "- Create a new file, 'test.py'\n",
      "- Type or copy the code below into the file.\n",
      "- Run the file, either by typing 'python test.py' in the command line, or within your IDE using the built-in \"Run\" function."
     ]
    },
    {
     "cell_type": "raw",
     "metadata": {},
     "source": [
      "import sys\n",
      "print \"Welcome to python \" + sys.version()\n",
      "\n",
      "import "
     ]
    }
   ],
   "metadata": {}
  }
 ]
}