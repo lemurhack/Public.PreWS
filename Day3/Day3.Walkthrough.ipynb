{
 "metadata": {
  "name": "",
  "signature": "sha256:e457d00b8d91d741ec78ab4c75fed32643be199206556b21b028a196d78cdcbc"
 },
 "nbformat": 3,
 "nbformat_minor": 0,
 "worksheets": [
  {
   "cells": [
    {
     "cell_type": "heading",
     "level": 1,
     "metadata": {},
     "source": [
      "Introduction to Numpy"
     ]
    },
    {
     "cell_type": "code",
     "collapsed": false,
     "input": [
      "import numpy as np\n",
      "\n",
      "list_matrix = [[1, 3, 4], [2, 3, 5], [5, 7, 9]]\n",
      "A = np.array(list_matrix)\n",
      "b = np.array([4, 4, 4])\n",
      "\n",
      "# Linear Algebra with Numpy\n",
      "\n",
      "x = np.linalg.solve(A, b)"
     ],
     "language": "python",
     "metadata": {},
     "outputs": []
    },
    {
     "cell_type": "markdown",
     "metadata": {},
     "source": [
      "Task: Navigate to numpy documentation and calculate the product of A and x:"
     ]
    },
    {
     "cell_type": "code",
     "collapsed": false,
     "input": [],
     "language": "python",
     "metadata": {},
     "outputs": []
    },
    {
     "cell_type": "heading",
     "level": 3,
     "metadata": {},
     "source": [
      "Linear classifier example"
     ]
    },
    {
     "cell_type": "code",
     "collapsed": false,
     "input": [
      "def svm_classify(w, b, x):\n",
      "    return np.dot(w, x) - b > 0\n",
      "\n",
      "# Classifier parameters\n",
      "w = [-1.3, 4.555, 7]\n",
      "b = 9.0\n",
      "\n",
      "# Data\n",
      "points = [[8.11, 3.42, 11.2], [-4.9, 4.557, 7.08]]\n",
      "labels = [svm_classify(w, b, p) for p in points]"
     ],
     "language": "python",
     "metadata": {},
     "outputs": []
    },
    {
     "cell_type": "code",
     "collapsed": false,
     "input": [],
     "language": "python",
     "metadata": {},
     "outputs": []
    },
    {
     "cell_type": "heading",
     "level": 3,
     "metadata": {},
     "source": [
      "Introduction to numpy.ndarray"
     ]
    },
    {
     "cell_type": "code",
     "collapsed": false,
     "input": [
      "normal_arr = [[1.2, 2.3], [-3.1, 4.77]]\n",
      "ndarr = np.array(normal_arr)\n",
      "\n",
      "print(ndarr.shape)"
     ],
     "language": "python",
     "metadata": {},
     "outputs": []
    },
    {
     "cell_type": "code",
     "collapsed": false,
     "input": [],
     "language": "python",
     "metadata": {},
     "outputs": []
    },
    {
     "cell_type": "heading",
     "level": 3,
     "metadata": {},
     "source": [
      "Special ndarrays"
     ]
    },
    {
     "cell_type": "code",
     "collapsed": false,
     "input": [
      "identity10 = np.eye(10)\n",
      "ones4x2 = np.ones((4, 2))\n",
      "empty6x7x6= np.empty((6,7,6))"
     ],
     "language": "python",
     "metadata": {},
     "outputs": []
    },
    {
     "cell_type": "markdown",
     "metadata": {},
     "source": [
      "Task: Look at these arrays. See what np.eye, np.ones, np.empty, produce (try running the code again)."
     ]
    },
    {
     "cell_type": "code",
     "collapsed": false,
     "input": [],
     "language": "python",
     "metadata": {},
     "outputs": []
    },
    {
     "cell_type": "heading",
     "level": 3,
     "metadata": {},
     "source": [
      "Accessing Elements"
     ]
    },
    {
     "cell_type": "code",
     "collapsed": false,
     "input": [
      "A = np.ones((4, 4))\n",
      "A[0, 0] += 2\n",
      "A12 = A[1, 2]\n",
      "\n",
      "first_row = A[0,:]\n",
      "last_col = A[:,-1]"
     ],
     "language": "python",
     "metadata": {},
     "outputs": []
    },
    {
     "cell_type": "code",
     "collapsed": false,
     "input": [],
     "language": "python",
     "metadata": {},
     "outputs": []
    },
    {
     "cell_type": "heading",
     "level": 3,
     "metadata": {},
     "source": [
      "Array creation revisited"
     ]
    },
    {
     "cell_type": "code",
     "collapsed": false,
     "input": [
      "# From lists\n",
      "arr = np.array ( [ [1 , 2, 3] , [4 , 5, 6] ] )"
     ],
     "language": "python",
     "metadata": {},
     "outputs": []
    },
    {
     "cell_type": "code",
     "collapsed": false,
     "input": [],
     "language": "python",
     "metadata": {},
     "outputs": []
    },
    {
     "cell_type": "code",
     "collapsed": false,
     "input": [
      "# Sequences\n",
      "spacedarr = np.arange(0 , 10, 0.1)\n",
      "linarr = np.linspace (0 , 2*np.pi , 100)"
     ],
     "language": "python",
     "metadata": {},
     "outputs": []
    },
    {
     "cell_type": "code",
     "collapsed": false,
     "input": [],
     "language": "python",
     "metadata": {},
     "outputs": []
    },
    {
     "cell_type": "code",
     "collapsed": false,
     "input": [
      "# Zeros, Ones, Diagonals\n",
      "zeroarr = np.zeros ((5 , 5))\n",
      "onesarr = np.ones ((5 , 5))\n",
      "diagarr = np.diag(np.arange(5))"
     ],
     "language": "python",
     "metadata": {},
     "outputs": []
    },
    {
     "cell_type": "code",
     "collapsed": false,
     "input": [],
     "language": "python",
     "metadata": {},
     "outputs": []
    },
    {
     "cell_type": "code",
     "collapsed": false,
     "input": [
      "# Random\n",
      "randarr = np.random.random( size = (3, 4))\n",
      "normarr = np.random.normal( loc=10., scale=3., size=(3, 4, 5))"
     ],
     "language": "python",
     "metadata": {},
     "outputs": []
    },
    {
     "cell_type": "code",
     "collapsed": false,
     "input": [],
     "language": "python",
     "metadata": {},
     "outputs": []
    },
    {
     "cell_type": "heading",
     "level": 3,
     "metadata": {},
     "source": [
      "Array IO"
     ]
    },
    {
     "cell_type": "code",
     "collapsed": false,
     "input": [
      "arr = np.array ( [ [1 , 2, 3] , [4 , 5, 6] ] )\n",
      "np.savetxt (fname='array_out.txt', X=arr) # Save an array in a space delimited file\n",
      "loaded_arr = np.loadtxt(fname='array_out.txt') # Load the array from a space delimited file\n",
      "\n",
      "print(np.all(arr == loaded_arr)) # Return whether arrays are identical"
     ],
     "language": "python",
     "metadata": {},
     "outputs": []
    },
    {
     "cell_type": "code",
     "collapsed": false,
     "input": [],
     "language": "python",
     "metadata": {},
     "outputs": []
    },
    {
     "cell_type": "heading",
     "level": 3,
     "metadata": {},
     "source": [
      "Arrays have attributes and methods"
     ]
    },
    {
     "cell_type": "code",
     "collapsed": false,
     "input": [
      "arr = np.arange(10).reshape((2, 5)) # Reshape\n",
      "\n",
      "print(arr.ndim)\n",
      "print(arr.shape)\n",
      "print(arr.size)\n",
      "print(arr.T)\n",
      "print(arr.dtype)"
     ],
     "language": "python",
     "metadata": {},
     "outputs": []
    },
    {
     "cell_type": "code",
     "collapsed": false,
     "input": [],
     "language": "python",
     "metadata": {},
     "outputs": []
    },
    {
     "cell_type": "heading",
     "level": 3,
     "metadata": {},
     "source": [
      "Array Slicing and Indexing"
     ]
    },
    {
     "cell_type": "code",
     "collapsed": false,
     "input": [
      "arr = np.arange(20).reshape ((4 , 5))\n",
      "\n",
      "# Slicing\n",
      "a = arr [0:4 , 3:5] \n",
      "a = arr [ :4 , 3:5] \n",
      "a = arr [ : , 3: ]\n",
      "a = arr [ slice(None) , slice(3 , None) ] \n",
      "\n",
      "# Integer indices\n",
      "b = arr [ [1 , 2] , : ] \n",
      "b = arr [np.array ([1 , 2]) , : ]\n",
      "# c = arr [ [1 , 2] , [1 , 2, 3] ] # ERROR\n",
      "\n",
      "# boolean indices\n",
      "b = arr [np.array ( [ False , True , True , False ] ) , : ]\n",
      "d = arr [ [ False , True , True , False ] , : ]"
     ],
     "language": "python",
     "metadata": {},
     "outputs": []
    },
    {
     "cell_type": "code",
     "collapsed": false,
     "input": [],
     "language": "python",
     "metadata": {},
     "outputs": []
    },
    {
     "cell_type": "markdown",
     "metadata": {},
     "source": [
      "Task: Figure out why the commented line is an error. How many elements are you trying to access there?"
     ]
    },
    {
     "cell_type": "code",
     "collapsed": false,
     "input": [],
     "language": "python",
     "metadata": {},
     "outputs": []
    },
    {
     "cell_type": "markdown",
     "metadata": {},
     "source": [
      "Task: Figure out why b != d. What is d?"
     ]
    },
    {
     "cell_type": "code",
     "collapsed": false,
     "input": [],
     "language": "python",
     "metadata": {},
     "outputs": []
    },
    {
     "cell_type": "heading",
     "level": 3,
     "metadata": {},
     "source": [
      "Indexing ndarrays"
     ]
    },
    {
     "cell_type": "code",
     "collapsed": false,
     "input": [
      "regular_list = [0,1,2,3,4]\n",
      "regular_result = [elem > 0 for elem in regular_list]\n",
      "\n",
      "numpy_array = np.array(regular_list)\n",
      "numpy_result = numpy_array[numpy_array > 0]\n",
      "numpy_array[numpy_array > 0] = 0\n",
      "\n",
      "arr = np.array(regular_list)\n",
      "arr[arr > 0] = np.random.random_integers(low=0,high=10,size=len( arr[arr > 0] ))"
     ],
     "language": "python",
     "metadata": {},
     "outputs": []
    },
    {
     "cell_type": "code",
     "collapsed": false,
     "input": [],
     "language": "python",
     "metadata": {},
     "outputs": []
    },
    {
     "cell_type": "heading",
     "level": 3,
     "metadata": {},
     "source": [
      "Array Axes"
     ]
    },
    {
     "cell_type": "code",
     "collapsed": false,
     "input": [
      "arr = np.random.random((2 , 5))\n",
      "asum = arr.sum() # Sum all elements\n",
      "asum = np.sum( arr )\n",
      "\n",
      "csum = np.sum( arr , axis=0) # Column sum\n",
      "rsum = np.sum( arr , axis=1) # Row sum\n",
      "\n",
      "csum = np.apply_along_axis (np.sum, 0, arr ) # Column sum\n",
      "\n",
      "arr3d = np.random.random((2 , 3, 4))\n",
      "arr2d = np.sum(arr3d , axis=2) # Returns a 2D array"
     ],
     "language": "python",
     "metadata": {},
     "outputs": []
    },
    {
     "cell_type": "code",
     "collapsed": false,
     "input": [],
     "language": "python",
     "metadata": {},
     "outputs": []
    },
    {
     "cell_type": "heading",
     "level": 3,
     "metadata": {},
     "source": [
      "Array Broadcasting"
     ]
    },
    {
     "cell_type": "code",
     "collapsed": false,
     "input": [
      "arr = np.random.random((4, 5))\n",
      "print(arr)"
     ],
     "language": "python",
     "metadata": {},
     "outputs": []
    },
    {
     "cell_type": "code",
     "collapsed": false,
     "input": [],
     "language": "python",
     "metadata": {},
     "outputs": []
    },
    {
     "cell_type": "code",
     "collapsed": false,
     "input": [
      "print(arr * 5) # Multiply each element of the array by 5"
     ],
     "language": "python",
     "metadata": {},
     "outputs": []
    },
    {
     "cell_type": "code",
     "collapsed": false,
     "input": [],
     "language": "python",
     "metadata": {},
     "outputs": []
    },
    {
     "cell_type": "code",
     "collapsed": false,
     "input": [
      "# scales the first column by 0.\n",
      "# scales the second column by 1., etc.\n",
      "print(arr * np.arange(5))"
     ],
     "language": "python",
     "metadata": {},
     "outputs": []
    },
    {
     "cell_type": "code",
     "collapsed": false,
     "input": [],
     "language": "python",
     "metadata": {},
     "outputs": []
    },
    {
     "cell_type": "heading",
     "level": 3,
     "metadata": {},
     "source": [
      "Broadcasting cont..."
     ]
    },
    {
     "cell_type": "code",
     "collapsed": false,
     "input": [
      "a = np.array([0,1,2,3,4])\n",
      "print(a)\n",
      "print(a.shape)"
     ],
     "language": "python",
     "metadata": {},
     "outputs": []
    },
    {
     "cell_type": "code",
     "collapsed": false,
     "input": [],
     "language": "python",
     "metadata": {},
     "outputs": []
    },
    {
     "cell_type": "code",
     "collapsed": false,
     "input": [
      "b = a.reshape(1,-1)\n",
      "print(b)\n",
      "print(b.shape)"
     ],
     "language": "python",
     "metadata": {},
     "outputs": []
    },
    {
     "cell_type": "code",
     "collapsed": false,
     "input": [],
     "language": "python",
     "metadata": {},
     "outputs": []
    },
    {
     "cell_type": "code",
     "collapsed": false,
     "input": [
      "print(a + b)"
     ],
     "language": "python",
     "metadata": {},
     "outputs": []
    },
    {
     "cell_type": "code",
     "collapsed": false,
     "input": [],
     "language": "python",
     "metadata": {},
     "outputs": []
    },
    {
     "cell_type": "code",
     "collapsed": false,
     "input": [
      "a.shape = (5,1)\n",
      "print(a)"
     ],
     "language": "python",
     "metadata": {},
     "outputs": []
    },
    {
     "cell_type": "code",
     "collapsed": false,
     "input": [],
     "language": "python",
     "metadata": {},
     "outputs": []
    },
    {
     "cell_type": "code",
     "collapsed": false,
     "input": [
      "print(a + b)"
     ],
     "language": "python",
     "metadata": {},
     "outputs": []
    },
    {
     "cell_type": "code",
     "collapsed": false,
     "input": [],
     "language": "python",
     "metadata": {},
     "outputs": []
    },
    {
     "cell_type": "heading",
     "level": 1,
     "metadata": {},
     "source": [
      "Introduction to SciPY"
     ]
    },
    {
     "cell_type": "code",
     "collapsed": false,
     "input": [
      "import scipy.stats as stats\n",
      "\n",
      "# Generate two data samples from different distributions\n",
      "samp1 = stats.norm.rvs ( loc=0., scale=1., size=100)\n",
      "samp2 = stats.norm.rvs ( loc=2., scale=1., size=100)\n",
      "\n",
      "# perform ks test : null hypothesis is distributions are the same\n",
      "D1, pval1 = stats.ks_2samp(samp1, samp2)\n",
      "\n",
      "# Generate two data samples from the same distribution\n",
      "samp1 = stats.norm.rvs ( loc=0., scale=1., size=100)\n",
      "samp2 = stats.norm.rvs ( loc=0., scale=1., size=100)\n",
      "\n",
      "D2, pval2 = stats.ks_2samp(samp1, samp2)\n"
     ],
     "language": "python",
     "metadata": {},
     "outputs": []
    },
    {
     "cell_type": "code",
     "collapsed": false,
     "input": [],
     "language": "python",
     "metadata": {},
     "outputs": []
    },
    {
     "cell_type": "heading",
     "level": 3,
     "metadata": {},
     "source": [
      "Bootstrapped Confidence Interval Example"
     ]
    },
    {
     "cell_type": "code",
     "collapsed": false,
     "input": [
      "B = 1000\n",
      "N = 100\n",
      "\n",
      "# data array\n",
      "arr = stats.norm.rvs ( loc=np.pi , size=100)\n",
      "\n",
      "# compute distribution of mean estimate\n",
      "mean_distn = np.array( [np.mean( arr[np.random.randint(N, size=N) ] ) for i in xrange(B) ] )\n",
      "\n",
      "# 95% confidence interval\n",
      "confidence_bounds = stats.mstats.mquantiles(mean_distn,prob=[.025, .975])"
     ],
     "language": "python",
     "metadata": {},
     "outputs": []
    },
    {
     "cell_type": "code",
     "collapsed": false,
     "input": [],
     "language": "python",
     "metadata": {},
     "outputs": []
    },
    {
     "cell_type": "heading",
     "level": 1,
     "metadata": {},
     "source": [
      "Introduction to Matplotlib"
     ]
    },
    {
     "cell_type": "code",
     "collapsed": false,
     "input": [
      "import matplotlib.pyplot as plt\n",
      "%matplotlib inline \n",
      "\n",
      "x = np.linspace (0 , 10, 1000)\n",
      "y = np.power(x , 2)\n",
      "plt.plot(x,y)\n",
      "plt.savefig ( 'line_plot.png' )"
     ],
     "language": "python",
     "metadata": {},
     "outputs": []
    },
    {
     "cell_type": "code",
     "collapsed": false,
     "input": [],
     "language": "python",
     "metadata": {},
     "outputs": []
    },
    {
     "cell_type": "heading",
     "level": 3,
     "metadata": {},
     "source": [
      "Formatting Scatter Plots"
     ]
    },
    {
     "cell_type": "code",
     "collapsed": false,
     "input": [
      "x = np.linspace (0 , 10, 1000)\n",
      "y = np.power(x , 2)\n",
      "plt.plot(x,y)\n",
      "plt.xlim((1, 5))\n",
      "plt.ylim((0, 30))\n",
      "plt.xlabel('my x label')\n",
      "plt.ylabel('my y label')\n",
      "plt.title('plot title, including $\\Omega$')\n",
      "plt.savefig ( 'line_plot_plus.png' )"
     ],
     "language": "python",
     "metadata": {},
     "outputs": []
    },
    {
     "cell_type": "code",
     "collapsed": false,
     "input": [],
     "language": "python",
     "metadata": {},
     "outputs": []
    },
    {
     "cell_type": "heading",
     "level": 3,
     "metadata": {},
     "source": [
      "Mutiple Plots"
     ]
    },
    {
     "cell_type": "code",
     "collapsed": false,
     "input": [
      "x = np.linspace (0 , 10, 1000)\n",
      "y1 = np.power(x , 2)\n",
      "y2 = np.power(x , 3)\n",
      "\n",
      "plt.plot(x ,y1 ,'b-' , x , y2 , 'go' )\n",
      "plt.xlim((1, 5))\n",
      "plt.ylim((0, 30))\n",
      "plt.xlabel('my x label')\n",
      "plt.ylabel('my y label')\n",
      "plt.title('plot title, including $\\Omega$')\n",
      "plt.legend(( '$x^2$ ' , '$x^3$ ' ))\n",
      "\n",
      "plt.savefig ( 'line_plot_plus2.png' )"
     ],
     "language": "python",
     "metadata": {},
     "outputs": []
    },
    {
     "cell_type": "code",
     "collapsed": false,
     "input": [],
     "language": "python",
     "metadata": {},
     "outputs": []
    },
    {
     "cell_type": "heading",
     "level": 3,
     "metadata": {},
     "source": [
      "Histograms"
     ]
    },
    {
     "cell_type": "code",
     "collapsed": false,
     "input": [
      "data = np.random.randn(1000)\n",
      "\n",
      "# histogram (pdf)\n",
      "plt.subplot(1 , 2, 1)\n",
      "plt.hist(data , bins=30, normed=True , facecolor='b')\n",
      "\n",
      "# empirical cdf\n",
      "plt.subplot(1 , 2, 2)\n",
      "plt.hist(data , bins=30, normed=True , facecolor='g', cumulative=True)\n",
      "\n",
      "plt.savefig( 'histogram.png' )"
     ],
     "language": "python",
     "metadata": {},
     "outputs": []
    },
    {
     "cell_type": "code",
     "collapsed": false,
     "input": [],
     "language": "python",
     "metadata": {},
     "outputs": []
    },
    {
     "cell_type": "heading",
     "level": 3,
     "metadata": {},
     "source": [
      "Box Plots"
     ]
    },
    {
     "cell_type": "code",
     "collapsed": false,
     "input": [
      "samp1 = np.random.normal(loc=0., scale=1., size=100)\n",
      "samp2 = np.random.normal(loc=1., scale=2., size=100)\n",
      "\n",
      "plt.boxplot((samp1, samp2))\n",
      "plt.savefig('boxplot.png')"
     ],
     "language": "python",
     "metadata": {},
     "outputs": []
    },
    {
     "cell_type": "code",
     "collapsed": false,
     "input": [],
     "language": "python",
     "metadata": {},
     "outputs": []
    },
    {
     "cell_type": "heading",
     "level": 3,
     "metadata": {},
     "source": [
      "Image Plots"
     ]
    },
    {
     "cell_type": "code",
     "collapsed": false,
     "input": [
      "A = np.random.random((100, 100))\n",
      "plt.imshow(A)\n",
      "plt.hot()\n",
      "plt.colorbar()\n",
      "plt.savefig('imageplot.png')"
     ],
     "language": "python",
     "metadata": {},
     "outputs": []
    },
    {
     "cell_type": "code",
     "collapsed": false,
     "input": [],
     "language": "python",
     "metadata": {},
     "outputs": []
    },
    {
     "cell_type": "heading",
     "level": 3,
     "metadata": {},
     "source": [
      "Wire Plots"
     ]
    },
    {
     "cell_type": "code",
     "collapsed": false,
     "input": [
      "from mpl_toolkits.mplot3d import axes3d\n",
      "import matplotlib.pyplot as plt\n",
      "\n",
      "ax = plt.subplot(111, projection='3d')\n",
      "X, Y, Z = axes3d.get_test_data(0.1)\n",
      "ax.plot_wireframe(X, Y, Z)\n",
      "\n",
      "plt.savefig('wire.png')"
     ],
     "language": "python",
     "metadata": {},
     "outputs": []
    },
    {
     "cell_type": "code",
     "collapsed": false,
     "input": [],
     "language": "python",
     "metadata": {},
     "outputs": []
    }
   ],
   "metadata": {}
  }
 ]
}