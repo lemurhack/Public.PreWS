{
 "metadata": {
  "name": "",
  "signature": "sha256:34d7293872fe4e927f61b17ee882fc2a87778993e3adf5cbf299d1cc5d21f1c9"
 },
 "nbformat": 3,
 "nbformat_minor": 0,
 "worksheets": [
  {
   "cells": [
    {
     "cell_type": "heading",
     "level": 3,
     "metadata": {},
     "source": [
      "Step 0 ) Read in methylation data using numpy.genfromtext"
     ]
    },
    {
     "cell_type": "code",
     "collapsed": false,
     "input": [
      "import numpy as np\n",
      "fp = open('Sjogrens.methylation.data.csv','r') # Open the methylation data file\n",
      "dataset = np.genfromtxt(fp, delimiter=',') # Read in a .CSV file, quickly"
     ],
     "language": "python",
     "metadata": {},
     "outputs": []
    },
    {
     "cell_type": "code",
     "collapsed": false,
     "input": [
      "type(dataset)"
     ],
     "language": "python",
     "metadata": {},
     "outputs": []
    },
    {
     "cell_type": "markdown",
     "metadata": {},
     "source": [
      "Explanation: dataset is numpy object, a multidimensional array. Let's print slices of the dataset to see if we read in the data correctly..."
     ]
    },
    {
     "cell_type": "code",
     "collapsed": false,
     "input": [
      "print(dataset[0:5,0:5])"
     ],
     "language": "python",
     "metadata": {},
     "outputs": []
    },
    {
     "cell_type": "markdown",
     "metadata": {},
     "source": [
      "Explore: Take a look around and see what fields are nan. "
     ]
    },
    {
     "cell_type": "markdown",
     "metadata": {},
     "source": [
      "Explanation: You may notice that the rows and columns that are strings in the .csv file were not read in properly. This is because a numpy array is a homogonous object; character types and numerical types cannot coexist in the same numpy array. That's what lists are for... "
     ]
    },
    {
     "cell_type": "heading",
     "level": 6,
     "metadata": {},
     "source": [
      "Task: For now we will ignore the string fields for the methylation data. Select the numerical data into methyldata using numpy indexing:"
     ]
    },
    {
     "cell_type": "code",
     "collapsed": false,
     "input": [
      "methyldata = dataset[1:,2:]"
     ],
     "language": "python",
     "metadata": {},
     "outputs": []
    },
    {
     "cell_type": "heading",
     "level": 3,
     "metadata": {},
     "source": [
      "Step 1 ) Read in subject data as a list of lists of strings, using the csv library"
     ]
    },
    {
     "cell_type": "code",
     "collapsed": false,
     "input": [
      "import csv\n",
      "with open('Sjogrens.subject.data.csv','r') as csvfile:\n",
      "    subjectdata = list(csv.reader(csvfile))"
     ],
     "language": "python",
     "metadata": {},
     "outputs": []
    },
    {
     "cell_type": "code",
     "collapsed": false,
     "input": [
      "type(subjectdata)"
     ],
     "language": "python",
     "metadata": {},
     "outputs": []
    },
    {
     "cell_type": "code",
     "collapsed": false,
     "input": [
      "print(subjectdata[0:5])"
     ],
     "language": "python",
     "metadata": {},
     "outputs": []
    },
    {
     "cell_type": "markdown",
     "metadata": {},
     "source": [
      "We should process this column into two columns: a string column and integer column. Note that the first list is a string header."
     ]
    },
    {
     "cell_type": "code",
     "collapsed": false,
     "input": [
      "subjectdata = subjectdata[1:] # Remove the header\n",
      "\n",
      "# Convert the second column to integer type\n",
      "for row in subjectdata:\n",
      "    row[1] = int(row[1])\n",
      "\n",
      "subjectdata = map(list, zip(*subjectdata)) # Transpose a list of lists using zip (and map)\n",
      "subjectid = subjectdata[0]\n",
      "status = subjectdata[1]"
     ],
     "language": "python",
     "metadata": {},
     "outputs": []
    },
    {
     "cell_type": "code",
     "collapsed": false,
     "input": [
      "print(subjectdata)"
     ],
     "language": "python",
     "metadata": {},
     "outputs": []
    },
    {
     "cell_type": "markdown",
     "metadata": {},
     "source": [
      "Explanation: We can read in all of the data as strings, but it's represented by a list of lists. This makes it fairly incovenient to \"slice\" the data"
     ]
    },
    {
     "cell_type": "code",
     "collapsed": false,
     "input": [],
     "language": "python",
     "metadata": {},
     "outputs": []
    },
    {
     "cell_type": "heading",
     "level": 3,
     "metadata": {},
     "source": [
      "Step 2 ) Multidimensional Scaling Analysis"
     ]
    },
    {
     "cell_type": "code",
     "collapsed": false,
     "input": [
      "from scipy import spatial\n",
      "dist_matrix = spatial.distance.squareform(spatial.distance.pdist(methyldata.T,'euclidean'))"
     ],
     "language": "python",
     "metadata": {},
     "outputs": []
    },
    {
     "cell_type": "code",
     "collapsed": false,
     "input": [],
     "language": "python",
     "metadata": {},
     "outputs": []
    },
    {
     "cell_type": "code",
     "collapsed": false,
     "input": [
      "from scipy import linalg\n",
      "uarr, spec, vharr = linalg.svd(dist_matrix)\n",
      "pcs = uarr"
     ],
     "language": "python",
     "metadata": {},
     "outputs": []
    },
    {
     "cell_type": "code",
     "collapsed": false,
     "input": [],
     "language": "python",
     "metadata": {},
     "outputs": []
    },
    {
     "cell_type": "code",
     "collapsed": false,
     "input": [
      "import matplotlib.pyplot as plt\n",
      "%matplotlib inline \n",
      "plt.plot(pcs[np.array(status) == 1,1],pcs[np.array(status) == 1,2],'ro',pcs[np.array(status) == 2,1],pcs[np.array(status) == 2,2],'bo')"
     ],
     "language": "python",
     "metadata": {},
     "outputs": []
    },
    {
     "cell_type": "code",
     "collapsed": false,
     "input": [],
     "language": "python",
     "metadata": {},
     "outputs": []
    },
    {
     "cell_type": "heading",
     "level": 3,
     "metadata": {},
     "source": [
      "Step 3 ) Extracting site info "
     ]
    },
    {
     "cell_type": "code",
     "collapsed": false,
     "input": [
      "with open('Sjogrens.methylation.data.csv','r') as csvfile:\n",
      "    fullmethyldata = list(csv.reader(csvfile))"
     ],
     "language": "python",
     "metadata": {},
     "outputs": []
    },
    {
     "cell_type": "code",
     "collapsed": false,
     "input": [
      "sitedata = np.array([row[0:2] for row in fullmethyldata[1:]]).T # Remove the header and select first two columns"
     ],
     "language": "python",
     "metadata": {},
     "outputs": []
    },
    {
     "cell_type": "code",
     "collapsed": false,
     "input": [],
     "language": "python",
     "metadata": {},
     "outputs": []
    },
    {
     "cell_type": "heading",
     "level": 3,
     "metadata": {},
     "source": [
      "Step 4 ) Redo clustering analysis for a subset of features"
     ]
    },
    {
     "cell_type": "code",
     "collapsed": false,
     "input": [
      "red_methyldata = methyldata[sitedata[1] == 'RefGene270',:]"
     ],
     "language": "python",
     "metadata": {},
     "outputs": []
    },
    {
     "cell_type": "code",
     "collapsed": false,
     "input": [
      "red_dist_matrix = spatial.distance.squareform(spatial.distance.pdist(red_methyldata.T,'euclidean'))\n",
      "uarr, spec, vharr = linalg.svd(red_dist_matrix)\n",
      "red_pcs = uarr\n",
      "plt.plot(red_pcs[np.array(status) == 1,1],red_pcs[np.array(status) == 1,2],'ro',red_pcs[np.array(status) == 2,1],red_pcs[np.array(status) == 2,2],'bo')"
     ],
     "language": "python",
     "metadata": {},
     "outputs": []
    },
    {
     "cell_type": "code",
     "collapsed": false,
     "input": [],
     "language": "python",
     "metadata": {},
     "outputs": []
    }
   ],
   "metadata": {}
  }
 ]
}